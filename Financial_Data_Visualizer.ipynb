{
  "nbformat": 4,
  "nbformat_minor": 0,
  "metadata": {
    "colab": {
      "name": "Financial_Data_Visualizer.ipynb",
      "provenance": [],
      "collapsed_sections": [],
      "include_colab_link": true
    },
    "kernelspec": {
      "name": "python3",
      "display_name": "Python 3"
    }
  },
  "cells": [
    {
      "cell_type": "markdown",
      "metadata": {
        "id": "view-in-github",
        "colab_type": "text"
      },
      "source": [
        "<a href=\"https://colab.research.google.com/github/BruceAuHK/FlaskWeb/blob/master/Financial_Data_Visualizer.ipynb\" target=\"_parent\"><img src=\"https://colab.research.google.com/assets/colab-badge.svg\" alt=\"Open In Colab\"/></a>"
      ]
    },
    {
      "cell_type": "markdown",
      "metadata": {
        "id": "2Rc2D3PIwEKM",
        "colab_type": "text"
      },
      "source": [
        "# Financial Data Visualizer"
      ]
    },
    {
      "cell_type": "markdown",
      "metadata": {
        "id": "OBpLKcB1vw-c",
        "colab_type": "text"
      },
      "source": [
        "Getting all the dependencies ready, it may take 15 seconds"
      ]
    },
    {
      "cell_type": "code",
      "metadata": {
        "id": "t_ay-k_LvueI",
        "colab_type": "code",
        "colab": {}
      },
      "source": [
        "import matplotlib.pyplot as plt\n",
        "import urllib.request\n",
        "import json\n",
        "from datetime import datetime\n",
        "import ssl\n",
        "context = ssl._create_unverified_context()\n",
        "\n",
        "print(\"dependency ready\")"
      ],
      "execution_count": null,
      "outputs": []
    },
    {
      "cell_type": "markdown",
      "metadata": {
        "id": "qJgYgiZ3v8EB",
        "colab_type": "text"
      },
      "source": [
        "### Monetary Base"
      ]
    },
    {
      "cell_type": "code",
      "metadata": {
        "id": "dc0wSvzWv8Mk",
        "colab_type": "code",
        "colab": {}
      },
      "source": [
        "def get_MBC_from_HKMA():\n",
        "    # Monetary Base Data released by hkma monthly\n",
        "    url = 'https://api.hkma.gov.hk/public/market-data-and-statistics/monthly-statistical-bulletin/monetary-operation/monetary-base-endperiod?choose=end_of_month&from=1998-09&to=now&sortby=end_of_month&sortorder=asc'\n",
        "\n",
        "    # retrieve data from hkma api, 100 entries per call, untill every data are retrieveed\n",
        "    records = []\n",
        "    offset = 0\n",
        "    while True:\n",
        "        with urllib.request.urlopen(url+\"&offset=\"+str(offset), context=context) as req:\n",
        "            data = json.loads(req.read().decode())\n",
        "            records += data['result']['records']\n",
        "        if data['result']['datasize'] <= 0:\n",
        "            break\n",
        "        else:\n",
        "            offset += 100\n",
        "\n",
        "    # now data retrieved from hkma are stored in 'records' in a chronological order\n",
        "    return records\n",
        "\n",
        "\n",
        "def MBC():\n",
        "    records = get_MBC_from_HKMA()\n",
        "\n",
        "    # prepare formattedX and formattedY to plot a stacked area graph\n",
        "    formattedX = []\n",
        "    formatted_cert_of_indebt = []\n",
        "    formatted_gov_notes_coins_circulation = []\n",
        "    formatted_aggr_balance_bf_disc_win = []\n",
        "    formatted_outstanding_efbn = []\n",
        "    formattedY = []\n",
        "\n",
        "    for record in records:\n",
        "        formattedX += [record['end_of_month']]\n",
        "        # cert_of_indebt\n",
        "        formatted_cert_of_indebt += [record['cert_of_indebt']]\n",
        "        # gov_notes_coins_circulation\n",
        "        formatted_gov_notes_coins_circulation += [\n",
        "            record['gov_notes_coins_circulation']]\n",
        "        # aggr_balance_bf_disc_win\n",
        "        formatted_aggr_balance_bf_disc_win += [\n",
        "            record['aggr_balance_bf_disc_win']]\n",
        "        # outstanding_efbn\n",
        "        formatted_outstanding_efbn += [record['outstanding_efbn']]\n",
        "\n",
        "    formattedY = [formatted_cert_of_indebt,\n",
        "                  formatted_gov_notes_coins_circulation,\n",
        "                  formatted_aggr_balance_bf_disc_win,\n",
        "                  formatted_outstanding_efbn]\n",
        "\n",
        "    # Plot mbc\n",
        "    plt.stackplot(\n",
        "        formattedX,\n",
        "        formattedY,\n",
        "        labels=['cert_of_indebt',\n",
        "                'gov_notes_coins_circulation',\n",
        "                'aggr_balance_bf_disc_win',\n",
        "                'outstanding_efbn']\n",
        "    )\n",
        "    plt.title(\"Monetary Base Composition\")\n",
        "    plt.xlabel(\"End of month\")\n",
        "    plt.ylabel(\"HK$ million\")\n",
        "    plt.xticks([formattedX[-1], '2016-06', '2012-06',\n",
        "                '2008-06', '2004-06', '1998-09'])\n",
        "    plt.legend(loc='upper left')\n",
        "    plt.rcParams['figure.figsize'] = [12, 6]\n",
        "    plt.show()\n",
        "\n",
        "\n",
        "MBC()"
      ],
      "execution_count": null,
      "outputs": []
    },
    {
      "cell_type": "markdown",
      "metadata": {
        "id": "_lppWf9ZwH_c",
        "colab_type": "text"
      },
      "source": [
        "### 1. Money Multiplier = M3 / MB (HKD)"
      ]
    },
    {
      "cell_type": "code",
      "metadata": {
        "id": "L1vU5Vz5wLRX",
        "colab_type": "code",
        "colab": {}
      },
      "source": [
        "# ---------------- 1. Money Multiplier = M3 / MB (HKD) ----------------\n",
        "def get_MSA_from_HKMA():\n",
        "    # Monetary Supply-Ddjusted\n",
        "    url = 'https://api.hkma.gov.hk/public/market-data-and-statistics/monthly-statistical-bulletin/money/supply-adjusted?choose=end_of_month&from=1998-09&to=now&sortby=end_of_month&sortorder=asc'\n",
        "\n",
        "    # retrieve data from hkma api, 100 entries per call, untill every data are retrieveed\n",
        "    records = []\n",
        "    offset = 0\n",
        "    while True:\n",
        "        with urllib.request.urlopen(url+\"&offset=\"+str(offset), context=context) as req:\n",
        "            data = json.loads(req.read().decode())\n",
        "            records += data['result']['records']\n",
        "        if data['result']['datasize'] <= 0:\n",
        "            break\n",
        "        else:\n",
        "            offset += 100\n",
        "\n",
        "    # now data retrieved from hkma are stored in 'records' in a chronological order\n",
        "    return records\n",
        "\n",
        "\n",
        "def MM():\n",
        "    mbc_records = get_MBC_from_HKMA()\n",
        "    msa_records = get_MSA_from_HKMA()\n",
        "\n",
        "    syncLength = min(len(mbc_records), len(msa_records))\n",
        "    mbc_records = mbc_records[:syncLength]  # mb_bf_disc_win_total\n",
        "    msa_records = msa_records[:syncLength]  # m3_total\n",
        "\n",
        "    formatted_X = []\n",
        "    formatted_mm_Y = []\n",
        "    formatted_m3_total_Y = []\n",
        "    formatted_mb_total_Y = []\n",
        "\n",
        "    for i in range(syncLength):\n",
        "        mm = msa_records[i]['m3_total'] / mbc_records[i]['mb_bf_disc_win_total']\n",
        "        end_of_month = msa_records[i]['end_of_month']\n",
        "        \n",
        "        if(not msa_records[i]['end_of_month'] == mbc_records[i]['end_of_month']):\n",
        "            print(\"something wrong here, please check\") # date sync check\n",
        "\n",
        "        formatted_X += [end_of_month]\n",
        "        formatted_mm_Y += [mm]\n",
        "        formatted_m3_total_Y += [msa_records[i]['m3_total']]\n",
        "        formatted_mb_total_Y += [mbc_records[i]['mb_bf_disc_win_total']]\n",
        "\n",
        "    # Plot mm\n",
        "    plt.plot(formatted_X, formatted_mm_Y, color='orange', linewidth=4, alpha=0.7, label=\"money multiplier\")\n",
        "    plt.title(\"1. Money Multiplier = M3 / MB (HKD)\")\n",
        "    plt.xlabel(\"End of month\")\n",
        "    plt.ylabel(\"HK$ million\")\n",
        "    plt.xticks([formatted_X[-1], '2016-06', '2012-06',\n",
        "                '2008-06', '2004-06', '1998-09'])\n",
        "    plt.legend(loc='upper left')\n",
        "    plt.rcParams['figure.figsize'] = [12, 6]\n",
        "    plt.show()\n",
        "\n",
        "    # Plot m3\n",
        "    plt.plot(formatted_X, formatted_m3_total_Y, color='red', linewidth=4, alpha=0.7, label=\"m3\")\n",
        "    plt.title(\"M3 Total\")\n",
        "    plt.xlabel(\"End of month\")\n",
        "    plt.ylabel(\"HK$ million\")\n",
        "    plt.xticks([formatted_X[-1], '2016-06', '2012-06',\n",
        "                '2008-06', '2004-06', '1998-09'])\n",
        "    plt.legend(loc='upper left')\n",
        "    plt.rcParams['figure.figsize'] = [12, 6]\n",
        "    plt.show()\n",
        "    \n",
        "    # Plot mb\n",
        "    plt.plot(formatted_X, formatted_mb_total_Y, color='blue', linewidth=4, alpha=0.7, label=\"mb\")\n",
        "    plt.title(\"Total Monetary Base before Discount Window\")\n",
        "    plt.xlabel(\"End of month\")\n",
        "    plt.ylabel(\"HK$ million\")\n",
        "    plt.xticks([formatted_X[-1], '2016-06', '2012-06',\n",
        "                '2008-06', '2004-06', '1998-09'])\n",
        "    plt.legend(loc='upper left')\n",
        "    plt.rcParams['figure.figsize'] = [12, 6]\n",
        "    plt.show()\n",
        "\n",
        "MM()"
      ],
      "execution_count": null,
      "outputs": []
    }
  ]
}